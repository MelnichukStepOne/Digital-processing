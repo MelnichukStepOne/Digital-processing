{
  "nbformat": 4,
  "nbformat_minor": 0,
  "metadata": {
    "colab": {
      "name": "Numpy",
      "provenance": [],
      "collapsed_sections": [],
      "include_colab_link": true
    },
    "kernelspec": {
      "name": "python3",
      "display_name": "Python 3"
    },
    "language_info": {
      "name": "python"
    }
  },
  "cells": [
    {
      "cell_type": "markdown",
      "metadata": {
        "id": "view-in-github",
        "colab_type": "text"
      },
      "source": [
        "<a href=\"https://colab.research.google.com/github/MelnichukStepOne/digital-processing/blob/main/Numpy.ipynb\" target=\"_parent\"><img src=\"https://colab.research.google.com/assets/colab-badge.svg\" alt=\"Open In Colab\"/></a>"
      ]
    },
    {
      "cell_type": "code",
      "metadata": {
        "id": "9NtRMkxV_gfQ"
      },
      "source": [
        "import numpy as np\n",
        "import cv2\n",
        "from google.colab.patches import cv2_imshow"
      ],
      "execution_count": null,
      "outputs": []
    },
    {
      "cell_type": "code",
      "metadata": {
        "id": "K7EbvySscIQ_"
      },
      "source": [
        "\n",
        "#  1. Створити двомірний нульовий масив розміром 11х11 та заповнити його діагоналі одиницями.\n",
        "\n",
        "size = 11"
      ],
      "execution_count": null,
      "outputs": []
    },
    {
      "cell_type": "code",
      "metadata": {
        "id": "aFASfi4mdm58"
      },
      "source": [
        "mas = np.zeros((size,size),dtype=int)"
      ],
      "execution_count": null,
      "outputs": []
    },
    {
      "cell_type": "code",
      "metadata": {
        "colab": {
          "base_uri": "https://localhost:8080/"
        },
        "id": "igSHV-Xed7eK",
        "outputId": "cff67982-102b-49d1-9fbf-a704057fc281"
      },
      "source": [
        "for i in range(size):\n",
        "\tfor j in range(size):\n",
        "\t\tif (i == j ):\n",
        "\t\t\tmas[i][j] = 1\n",
        "\n",
        "print(mas)"
      ],
      "execution_count": null,
      "outputs": [
        {
          "output_type": "stream",
          "text": [
            "[[1 0 0 0 0 0 0 0 0 0 0]\n",
            " [0 1 0 0 0 0 0 0 0 0 0]\n",
            " [0 0 1 0 0 0 0 0 0 0 0]\n",
            " [0 0 0 1 0 0 0 0 0 0 0]\n",
            " [0 0 0 0 1 0 0 0 0 0 0]\n",
            " [0 0 0 0 0 1 0 0 0 0 0]\n",
            " [0 0 0 0 0 0 1 0 0 0 0]\n",
            " [0 0 0 0 0 0 0 1 0 0 0]\n",
            " [0 0 0 0 0 0 0 0 1 0 0]\n",
            " [0 0 0 0 0 0 0 0 0 1 0]\n",
            " [0 0 0 0 0 0 0 0 0 0 1]]\n"
          ],
          "name": "stdout"
        }
      ]
    },
    {
      "cell_type": "code",
      "metadata": {
        "colab": {
          "base_uri": "https://localhost:8080/"
        },
        "id": "Mj8r09A8ljFD",
        "outputId": "bae809d9-6d18-4e7f-da55-a6484ed70580"
      },
      "source": [
        "print(np.eye(size,dtype=int))"
      ],
      "execution_count": null,
      "outputs": [
        {
          "output_type": "stream",
          "text": [
            "[[1 0 0 0 0 0 0 0 0 0 0]\n",
            " [0 1 0 0 0 0 0 0 0 0 0]\n",
            " [0 0 1 0 0 0 0 0 0 0 0]\n",
            " [0 0 0 1 0 0 0 0 0 0 0]\n",
            " [0 0 0 0 1 0 0 0 0 0 0]\n",
            " [0 0 0 0 0 1 0 0 0 0 0]\n",
            " [0 0 0 0 0 0 1 0 0 0 0]\n",
            " [0 0 0 0 0 0 0 1 0 0 0]\n",
            " [0 0 0 0 0 0 0 0 1 0 0]\n",
            " [0 0 0 0 0 0 0 0 0 1 0]\n",
            " [0 0 0 0 0 0 0 0 0 0 1]]\n"
          ],
          "name": "stdout"
        }
      ]
    },
    {
      "cell_type": "code",
      "metadata": {
        "id": "ZRVxJvVNp3wQ"
      },
      "source": [
        "#2. Засобами NumPy створити вертикальні та горизонтальні зображення градієнту в обидва боки (поступове збільшення яскравості на зображенні).\n",
        "\n",
        "size=255"
      ],
      "execution_count": null,
      "outputs": []
    },
    {
      "cell_type": "code",
      "metadata": {
        "id": "BNwKW6Ysnz09"
      },
      "source": [
        "horgrad = np.zeros((size,size),dtype=float)"
      ],
      "execution_count": null,
      "outputs": []
    },
    {
      "cell_type": "code",
      "metadata": {
        "colab": {
          "base_uri": "https://localhost:8080/"
        },
        "id": "TF_Ta390pFyt",
        "outputId": "c7670a75-5a06-45cb-e766-be0fa274a996"
      },
      "source": [
        "w,h = horgrad.shape\n",
        "print(w,h)"
      ],
      "execution_count": null,
      "outputs": [
        {
          "output_type": "stream",
          "text": [
            "255 255\n"
          ],
          "name": "stdout"
        }
      ]
    },
    {
      "cell_type": "code",
      "metadata": {
        "id": "T5FdlfgM086J"
      },
      "source": [
        "horgrad2 = horgrad.copy()"
      ],
      "execution_count": null,
      "outputs": []
    },
    {
      "cell_type": "code",
      "metadata": {
        "colab": {
          "base_uri": "https://localhost:8080/"
        },
        "id": "27JBkncxqE2N",
        "outputId": "84ccb9f3-0498-402c-bd9b-06992e7c1a71"
      },
      "source": [
        "for i in range(w):\n",
        "    for j in range(h):\n",
        "        horgrad[i][j] = j\n",
        "        horgrad2[i][j] = i\n",
        "\n",
        "print(horgrad, f'\\n{\"-\"*40}\\n', horgrad2)"
      ],
      "execution_count": null,
      "outputs": [
        {
          "output_type": "stream",
          "text": [
            "[[  0.   1.   2. ... 252. 253. 254.]\n",
            " [  0.   1.   2. ... 252. 253. 254.]\n",
            " [  0.   1.   2. ... 252. 253. 254.]\n",
            " ...\n",
            " [  0.   1.   2. ... 252. 253. 254.]\n",
            " [  0.   1.   2. ... 252. 253. 254.]\n",
            " [  0.   1.   2. ... 252. 253. 254.]] \n",
            "----------------------------------------\n",
            " [[  0.   0.   0. ...   0.   0.   0.]\n",
            " [  1.   1.   1. ...   1.   1.   1.]\n",
            " [  2.   2.   2. ...   2.   2.   2.]\n",
            " ...\n",
            " [252. 252. 252. ... 252. 252. 252.]\n",
            " [253. 253. 253. ... 253. 253. 253.]\n",
            " [254. 254. 254. ... 254. 254. 254.]]\n"
          ],
          "name": "stdout"
        }
      ]
    },
    {
      "cell_type": "code",
      "metadata": {
        "colab": {
          "base_uri": "https://localhost:8080/",
          "height": 272
        },
        "id": "w0U3eC9YqdRH",
        "outputId": "602d3d3a-fb2b-4d28-e9b1-1e436fbffc53"
      },
      "source": [
        "i = cv2.imwrite('horgrad.jpg', horgrad)\n",
        "img = cv2.imread('horgrad.jpg', cv2.IMREAD_UNCHANGED)\n",
        "cv2_imshow(img)"
      ],
      "execution_count": null,
      "outputs": [
        {
          "output_type": "display_data",
          "data": {
            "image/png": "[encoded data removed]",
            "text/plain": [
              "<PIL.Image.Image image mode=L size=255x255 at 0x7FA9626CA490>"
            ]
          },
          "metadata": {
            "tags": []
          }
        }
      ]
    },
    {
      "cell_type": "code",
      "metadata": {
        "colab": {
          "base_uri": "https://localhost:8080/",
          "height": 272
        },
        "id": "czVyiTNR203-",
        "outputId": "f0193868-c99a-44e6-e223-2382d5969af5"
      },
      "source": [
        "i = cv2.imwrite('horgrad2.jpg', horgrad2)\n",
        "img = cv2.imread('horgrad2.jpg', cv2.IMREAD_UNCHANGED)\n",
        "cv2_imshow(img)"
      ],
      "execution_count": null,
      "outputs": [
        {
          "output_type": "display_data",
          "data": {
            "image/png": "[encoded data removed]",
            "text/plain": [
              "<PIL.Image.Image image mode=L size=255x255 at 0x7FA9626CA550>"
            ]
          },
          "metadata": {
            "tags": []
          }
        }
      ]
    },
    {
      "cell_type": "code",
      "metadata": {
        "colab": {
          "base_uri": "https://localhost:8080/",
          "height": 272
        },
        "id": "lstprbb83ADd",
        "outputId": "0505ed91-c499-4e5b-85cd-82000db9c9a4"
      },
      "source": [
        "i = cv2.imwrite('horgrad3.jpg', horgrad.transpose())\n",
        "img = cv2.imread('horgrad3.jpg', cv2.IMREAD_UNCHANGED)\n",
        "cv2_imshow(img)"
      ],
      "execution_count": null,
      "outputs": [
        {
          "output_type": "display_data",
          "data": {
            "image/png": "[encoded data removed]",
            "text/plain": [
              "<PIL.Image.Image image mode=L size=255x255 at 0x7FA9626AEED0>"
            ]
          },
          "metadata": {
            "tags": []
          }
        }
      ]
    }
  ]
}