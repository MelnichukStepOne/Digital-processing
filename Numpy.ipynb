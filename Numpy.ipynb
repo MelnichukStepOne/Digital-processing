{
  "nbformat": 4,
  "nbformat_minor": 0,
  "metadata": {
    "colab": {
      "name": "Numpy",
      "provenance": [],
      "collapsed_sections": [],
      "include_colab_link": true
    },
    "kernelspec": {
      "name": "python3",
      "display_name": "Python 3"
    },
    "language_info": {
      "name": "python"
    }
  },
  "cells": [
    {
      "cell_type": "markdown",
      "metadata": {
        "id": "view-in-github",
        "colab_type": "text"
      },
      "source": [
        "<a href=\"https://colab.research.google.com/github/MelnichukStepOne/digital-processing/blob/main/Numpy.ipynb\" target=\"_parent\"><img src=\"https://colab.research.google.com/assets/colab-badge.svg\" alt=\"Open In Colab\"/></a>"
      ]
    },
    {
      "cell_type": "code",
      "metadata": {
        "id": "9NtRMkxV_gfQ"
      },
      "source": [
        "import numpy as np\n",
        "import cv2\n",
        "from google.colab.patches import cv2_imshow"
      ],
      "execution_count": 28,
      "outputs": []
    },
    {
      "cell_type": "code",
      "metadata": {
        "id": "K7EbvySscIQ_"
      },
      "source": [
        "\n",
        "#  1. Створити двомірний нульовий масив розміром 11х11 та заповнити його діагоналі одиницями.\n",
        "\n",
        "size = 11"
      ],
      "execution_count": 29,
      "outputs": []
    },
    {
      "cell_type": "code",
      "metadata": {
        "id": "aFASfi4mdm58"
      },
      "source": [
        "mas = np.zeros((size,size),dtype=int)"
      ],
      "execution_count": 30,
      "outputs": []
    },
    {
      "cell_type": "code",
      "metadata": {
        "colab": {
          "base_uri": "https://localhost:8080/"
        },
        "id": "igSHV-Xed7eK",
        "outputId": "5990bbff-a006-4eae-aef2-e628a0e23ed6"
      },
      "source": [
        "for i in range(size):\n",
        "  for j in range(size):\n",
        "    if (i == j ):\n",
        "      mas[i][j] = 1\n",
        "    if (j == size-i ):\n",
        "      mas[i][j] = 1\n",
        "print(mas)  "
      ],
      "execution_count": 31,
      "outputs": [
        {
          "output_type": "stream",
          "text": [
            "[[1 0 0 0 0 0 0 0 0 0 0]\n",
            " [0 1 0 0 0 0 0 0 0 0 1]\n",
            " [0 0 1 0 0 0 0 0 0 1 0]\n",
            " [0 0 0 1 0 0 0 0 1 0 0]\n",
            " [0 0 0 0 1 0 0 1 0 0 0]\n",
            " [0 0 0 0 0 1 1 0 0 0 0]\n",
            " [0 0 0 0 0 1 1 0 0 0 0]\n",
            " [0 0 0 0 1 0 0 1 0 0 0]\n",
            " [0 0 0 1 0 0 0 0 1 0 0]\n",
            " [0 0 1 0 0 0 0 0 0 1 0]\n",
            " [0 1 0 0 0 0 0 0 0 0 1]]\n"
          ],
          "name": "stdout"
        }
      ]
    },
    {
      "cell_type": "code",
      "metadata": {
        "colab": {
          "base_uri": "https://localhost:8080/"
        },
        "id": "Mj8r09A8ljFD",
        "outputId": "7ac1b4c9-9e60-46af-d02d-60b08316cfb1"
      },
      "source": [
        "print(np.eye(size,dtype=int))"
      ],
      "execution_count": 32,
      "outputs": [
        {
          "output_type": "stream",
          "text": [
            "[[1 0 0 0 0 0 0 0 0 0 0]\n",
            " [0 1 0 0 0 0 0 0 0 0 0]\n",
            " [0 0 1 0 0 0 0 0 0 0 0]\n",
            " [0 0 0 1 0 0 0 0 0 0 0]\n",
            " [0 0 0 0 1 0 0 0 0 0 0]\n",
            " [0 0 0 0 0 1 0 0 0 0 0]\n",
            " [0 0 0 0 0 0 1 0 0 0 0]\n",
            " [0 0 0 0 0 0 0 1 0 0 0]\n",
            " [0 0 0 0 0 0 0 0 1 0 0]\n",
            " [0 0 0 0 0 0 0 0 0 1 0]\n",
            " [0 0 0 0 0 0 0 0 0 0 1]]\n"
          ],
          "name": "stdout"
        }
      ]
    },
    {
      "cell_type": "code",
      "metadata": {
        "id": "ZRVxJvVNp3wQ"
      },
      "source": [
        "#2. Засобами NumPy створити вертикальні та горизонтальні зображення градієнту в обидва боки (поступове збільшення яскравості на зображенні).\n",
        "\n",
        "size=255"
      ],
      "execution_count": 33,
      "outputs": []
    },
    {
      "cell_type": "code",
      "metadata": {
        "id": "BNwKW6Ysnz09"
      },
      "source": [
        "horgrad = np.zeros((size,size),dtype=float)"
      ],
      "execution_count": 34,
      "outputs": []
    },
    {
      "cell_type": "code",
      "metadata": {
        "colab": {
          "base_uri": "https://localhost:8080/"
        },
        "id": "TF_Ta390pFyt",
        "outputId": "3f7c8caf-f375-4b80-f4c9-86c8465f2656"
      },
      "source": [
        "w,h = horgrad.shape\n",
        "print(w,h)"
      ],
      "execution_count": 35,
      "outputs": [
        {
          "output_type": "stream",
          "text": [
            "255 255\n"
          ],
          "name": "stdout"
        }
      ]
    },
    {
      "cell_type": "code",
      "metadata": {
        "id": "T5FdlfgM086J"
      },
      "source": [
        "horgrad2 = horgrad.copy()"
      ],
      "execution_count": 36,
      "outputs": []
    },
    {
      "cell_type": "code",
      "metadata": {
        "colab": {
          "base_uri": "https://localhost:8080/"
        },
        "id": "27JBkncxqE2N",
        "outputId": "4d5f3da5-fc33-4b22-ca82-d83d7b580f50"
      },
      "source": [
        "for i in range(w):\n",
        "    for j in range(h):\n",
        "        horgrad[i][j] = j\n",
        "        horgrad2[i][j] = i\n",
        "\n",
        "print(horgrad, f'\\n{\"-\"*40}\\n', horgrad2)"
      ],
      "execution_count": 37,
      "outputs": [
        {
          "output_type": "stream",
          "text": [
            "[[  0.   1.   2. ... 252. 253. 254.]\n",
            " [  0.   1.   2. ... 252. 253. 254.]\n",
            " [  0.   1.   2. ... 252. 253. 254.]\n",
            " ...\n",
            " [  0.   1.   2. ... 252. 253. 254.]\n",
            " [  0.   1.   2. ... 252. 253. 254.]\n",
            " [  0.   1.   2. ... 252. 253. 254.]] \n",
            "----------------------------------------\n",
            " [[  0.   0.   0. ...   0.   0.   0.]\n",
            " [  1.   1.   1. ...   1.   1.   1.]\n",
            " [  2.   2.   2. ...   2.   2.   2.]\n",
            " ...\n",
            " [252. 252. 252. ... 252. 252. 252.]\n",
            " [253. 253. 253. ... 253. 253. 253.]\n",
            " [254. 254. 254. ... 254. 254. 254.]]\n"
          ],
          "name": "stdout"
        }
      ]
    },
    {
      "cell_type": "code",
      "metadata": {
        "colab": {
          "base_uri": "https://localhost:8080/",
          "height": 272
        },
        "id": "w0U3eC9YqdRH",
        "outputId": "46bbff6e-a5da-4077-a809-4883758a3f17"
      },
      "source": [
        "i = cv2.imwrite('horgrad.jpg', horgrad)\n",
        "img = cv2.imread('horgrad.jpg', cv2.IMREAD_UNCHANGED)\n",
        "cv2_imshow(img)"
      ],
      "execution_count": 38,
      "outputs": [
        {
          "output_type": "display_data",
          "data": {
            "image/png": "[encoded data removed]",
            "text/plain": [
              "<PIL.Image.Image image mode=L size=255x255 at 0x7FDF43EDFE90>"
            ]
          },
          "metadata": {
            "tags": []
          }
        }
      ]
    },
    {
      "cell_type": "code",
      "metadata": {
        "colab": {
          "base_uri": "https://localhost:8080/",
          "height": 272
        },
        "id": "czVyiTNR203-",
        "outputId": "fa5a6adc-b6a1-4932-c2ae-ba9699b779b4"
      },
      "source": [
        "i = cv2.imwrite('horgrad2.jpg', horgrad2)\n",
        "img = cv2.imread('horgrad2.jpg', cv2.IMREAD_UNCHANGED)\n",
        "cv2_imshow(img)"
      ],
      "execution_count": 39,
      "outputs": [
        {
          "output_type": "display_data",
          "data": {
            "image/png": "[encoded data removed]",
            "text/plain": [
              "<PIL.Image.Image image mode=L size=255x255 at 0x7FDF43E66690>"
            ]
          },
          "metadata": {
            "tags": []
          }
        }
      ]
    },
    {
      "cell_type": "code",
      "metadata": {
        "colab": {
          "base_uri": "https://localhost:8080/",
          "height": 272
        },
        "id": "lstprbb83ADd",
        "outputId": "ab760145-5f74-4b81-8750-d505d8f1e6c8"
      },
      "source": [
        "i = cv2.imwrite('horgrad3.jpg', horgrad.transpose())\n",
        "img = cv2.imread('horgrad3.jpg', cv2.IMREAD_UNCHANGED)\n",
        "cv2_imshow(img)"
      ],
      "execution_count": 40,
      "outputs": [
        {
          "output_type": "display_data",
          "data": {
            "image/png": "[encoded data removed]",
            "text/plain": [
              "<PIL.Image.Image image mode=L size=255x255 at 0x7FDF43E66CD0>"
            ]
          },
          "metadata": {
            "tags": []
          }
        }
      ]
    }
  ]
}